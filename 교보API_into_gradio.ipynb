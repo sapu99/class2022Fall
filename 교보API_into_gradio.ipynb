{
  "nbformat": 4,
  "nbformat_minor": 0,
  "metadata": {
    "colab": {
      "provenance": [],
      "include_colab_link": true
    },
    "kernelspec": {
      "name": "python3",
      "display_name": "Python 3"
    },
    "language_info": {
      "name": "python"
    }
  },
  "cells": [
    {
      "cell_type": "markdown",
      "metadata": {
        "id": "view-in-github",
        "colab_type": "text"
      },
      "source": [
        "<a href=\"https://colab.research.google.com/github/sapu99/class2022Fall/blob/main/%EA%B5%90%EB%B3%B4API_into_gradio.ipynb\" target=\"_parent\"><img src=\"https://colab.research.google.com/assets/colab-badge.svg\" alt=\"Open In Colab\"/></a>"
      ]
    },
    {
      "cell_type": "code",
      "source": [
        "import pandas as pd\n",
        "import json\n",
        "import requests"
      ],
      "metadata": {
        "id": "nhZj-Bi8Atg2"
      },
      "execution_count": 1,
      "outputs": []
    },
    {
      "cell_type": "code",
      "source": [
        "bookID = 'S000000620181'\n",
        "url='https://product.kyobobook.co.kr/api/review/list?page=1&pageLimit=10000&reviewSort=001&revwPatrCode=000&saleCmdtid='+bookID"
      ],
      "metadata": {
        "id": "j4Cj1FNgAyDU"
      },
      "execution_count": null,
      "outputs": []
    },
    {
      "cell_type": "code",
      "source": [
        "response = requests.get(url)\n",
        "response"
      ],
      "metadata": {
        "id": "P2y8pa1teetY",
        "colab": {
          "base_uri": "https://localhost:8080/"
        },
        "outputId": "b0479d0b-ff95-45db-deb3-92088c316af1"
      },
      "execution_count": null,
      "outputs": [
        {
          "output_type": "execute_result",
          "data": {
            "text/plain": [
              "<Response [200]>"
            ]
          },
          "metadata": {},
          "execution_count": 3
        }
      ]
    },
    {
      "cell_type": "code",
      "source": [
        "json_txt = response.text\n",
        "dict_data = json.loads(json_txt)"
      ],
      "metadata": {
        "id": "nU26-rUceiyY"
      },
      "execution_count": null,
      "outputs": []
    },
    {
      "cell_type": "code",
      "source": [
        "dict_data.keys()"
      ],
      "metadata": {
        "colab": {
          "base_uri": "https://localhost:8080/"
        },
        "id": "Ghj1jF_lSwus",
        "outputId": "2443598d-4cb8-41c2-d975-fbf5d482b5ca"
      },
      "execution_count": null,
      "outputs": [
        {
          "output_type": "execute_result",
          "data": {
            "text/plain": [
              "dict_keys(['data', 'statusCode', 'resultCode', 'resultMessage', 'detailMessage'])"
            ]
          },
          "metadata": {},
          "execution_count": 7
        }
      ]
    },
    {
      "cell_type": "code",
      "source": [
        "item = dict_data['data']['reviewList']"
      ],
      "metadata": {
        "id": "8_JlFnPlfUiB"
      },
      "execution_count": null,
      "outputs": []
    },
    {
      "cell_type": "code",
      "source": [
        "df = pd.DataFrame(item)\n",
        "df"
      ],
      "metadata": {
        "id": "DMlya8yXe5DH"
      },
      "execution_count": null,
      "outputs": []
    },
    {
      "cell_type": "code",
      "source": [
        "df.to_csv('review.csv')"
      ],
      "metadata": {
        "id": "_DVrUrYXykvL"
      },
      "execution_count": null,
      "outputs": []
    },
    {
      "cell_type": "code",
      "source": [
        "df.to_csv('review.csv', encoding='utf-8-sig')"
      ],
      "metadata": {
        "id": "Q46X-kXa2-Ai"
      },
      "execution_count": null,
      "outputs": []
    },
    {
      "cell_type": "code",
      "source": [
        "input = 'S000000620181'\n",
        "\n",
        "URL = ('https://product.kyobobook.co.kr/api/review/list?page=1&pageLimit=10000&reviewSort=001&revwPatrCode=000&saleCmdtid='+bookID)\n",
        "response = requests.get(URL)"
      ],
      "metadata": {
        "id": "9JkeXyCeUMP4"
      },
      "execution_count": null,
      "outputs": []
    },
    {
      "cell_type": "code",
      "source": [
        "dict_data = json.loads(json_txt)"
      ],
      "metadata": {
        "id": "xY7EW_6gaf_M"
      },
      "execution_count": null,
      "outputs": []
    },
    {
      "cell_type": "code",
      "source": [
        "item = dict_data['data']['reviewList']"
      ],
      "metadata": {
        "id": "GQGtCZ2Ia1if"
      },
      "execution_count": null,
      "outputs": []
    },
    {
      "cell_type": "code",
      "source": [
        "def test(input):\n",
        "  URL = ('https://product.kyobobook.co.kr/api/review/list?page=1&pageLimit=10000&reviewSort=001&revwPatrCode=000&saleCmdtid='+bookID)\n",
        "  response = requests.get(URL)\n",
        "  dict_data = json.loads(json_txt)\n",
        "  item = dict_data['data']['reviewList']\n",
        "\n",
        "  df = pd.DataFrame(item)\n",
        "  return df"
      ],
      "metadata": {
        "id": "yyugIZJgaE57"
      },
      "execution_count": null,
      "outputs": []
    },
    {
      "cell_type": "code",
      "source": [
        "demo = gr.Interface(fn=test, inputs=[\"text\"]), outputs=\"dataframe\")\n",
        "demo.launch(share=True)"
      ],
      "metadata": {
        "id": "EhMqg5FWbVB7",
        "outputId": "7b27f66a-146f-4e4c-98e2-16eb54992b7a",
        "colab": {
          "base_uri": "https://localhost:8080/",
          "height": 136
        }
      },
      "execution_count": null,
      "outputs": [
        {
          "output_type": "error",
          "ename": "SyntaxError",
          "evalue": "ignored",
          "traceback": [
            "\u001b[0;36m  File \u001b[0;32m\"<ipython-input-78-f2c11c03f327>\"\u001b[0;36m, line \u001b[0;32m1\u001b[0m\n\u001b[0;31m    demo = gr.Interface(fn=test, inputs=[\"text\"]), outputs=\"dataframe\")\u001b[0m\n\u001b[0m                                                                      ^\u001b[0m\n\u001b[0;31mSyntaxError\u001b[0m\u001b[0;31m:\u001b[0m invalid syntax\n"
          ]
        }
      ]
    }
  ]
}